{
 "cells": [
  {
   "cell_type": "code",
   "execution_count": null,
   "id": "a6c17a75-9d84-4a3d-8853-4d30281e8900",
   "metadata": {},
   "outputs": [],
   "source": [
    "# content  manager：menory management via context manager\n",
    "#  1. Invoke the context manager with 'with'"
   ]
  },
  {
   "cell_type": "code",
   "execution_count": 3,
   "id": "150baec7-0885-4522-9df4-e2e1330b4755",
   "metadata": {},
   "outputs": [],
   "source": [
    "# The following methods cause memory leaks\n",
    "for x in range(10000000):\n",
    "    f = open('test.txt', 'w')\n",
    "    f.write('hello')\n"
   ]
  },
  {
   "cell_type": "code",
   "execution_count": null,
   "id": "4f10c5df-37fe-48d7-89d9-2b8aaca0d48c",
   "metadata": {},
   "outputs": [],
   "source": [
    "# No memory leaks\n",
    "for x in range(10000000):\n",
    "    with open('test.txt', 'w') as f:\n",
    "        f.write('hello')"
   ]
  },
  {
   "cell_type": "code",
   "id": "7915d6d8-8e07-4153-8f08-beee83e94f96",
   "metadata": {
    "ExecuteTime": {
     "end_time": "2025-01-23T08:14:22.770663Z",
     "start_time": "2025-01-23T08:14:22.765225Z"
    }
   },
   "source": [
    "# define a context manager\n",
    "# When an object defines __enter__ and __exit__ methods, it is considered a context manager\n",
    "class FileManger:\n",
    "    def __init__(self, name, mode):\n",
    "        print('calling __init__ method')\n",
    "        self.name = name\n",
    "        self.mode = mode\n",
    "        self.file = None\n",
    "\n",
    "    # Initialization code, such as opening files, establishing database connections, etc\n",
    "    def __enter__(self):\n",
    "        print('calling __enter__ method')\n",
    "        self.file = open(self.name, self.mode)\n",
    "        #  can return any object\n",
    "        return self.file\n",
    "\n",
    "    # Clean up code, such as closing files, disconnecting databases, etc\n",
    "    def __exit__(self, exc_type, exc_val, exc_tb):\n",
    "        print('calling __exit__ method')\n",
    "        if self.file:\n",
    "            self.file.close()\n",
    "\n",
    "# Invoke the context manager with 'with'\n",
    "with FileManger('test1.txt', 'w') as f:\n",
    "    f.write('hello python')\n",
    "    "
   ],
   "outputs": [
    {
     "name": "stdout",
     "output_type": "stream",
     "text": [
      "calling __init__ method\n",
      "calling __enter__ method\n",
      "calling __exit__ method\n"
     ]
    }
   ],
   "execution_count": 7
  },
  {
   "cell_type": "code",
   "execution_count": null,
   "id": "749696d4-afd0-4e3e-b043-19e02d90d798",
   "metadata": {},
   "outputs": [],
   "source": []
  }
 ],
 "metadata": {
  "kernelspec": {
   "display_name": "Python 3 (ipykernel)",
   "language": "python",
   "name": "python3"
  },
  "language_info": {
   "codemirror_mode": {
    "name": "ipython",
    "version": 3
   },
   "file_extension": ".py",
   "mimetype": "text/x-python",
   "name": "python",
   "nbconvert_exporter": "python",
   "pygments_lexer": "ipython3",
   "version": "3.12.7"
  }
 },
 "nbformat": 4,
 "nbformat_minor": 5
}
