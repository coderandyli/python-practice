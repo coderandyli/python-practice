{
 "cells": [
  {
   "cell_type": "code",
   "execution_count": 2,
   "id": "3f8257cc-ec2d-4247-8919-2626bb1ea8d6",
   "metadata": {
    "panel-layout": {
     "height": 0,
     "visible": true,
     "width": 100
    }
   },
   "outputs": [
    {
     "name": "stdout",
     "output_type": "stream",
     "text": [
      "init function called\n",
      "32\n",
      "Python\n"
     ]
    }
   ],
   "source": [
    "# simple use of the class\n",
    "class Document():\n",
    "    def __init__(self, title, author, context):\n",
    "        print('init function called')\n",
    "        self.title = title\n",
    "        self.author = author\n",
    "        self.__context = context # __表示私有属性\n",
    "\n",
    "    def get_context_length(self):\n",
    "        return len(self.__context)\n",
    "\n",
    "book1 = Document(\"Python\", \"zhenzhenli\", \"this is a guide to useing python\")\n",
    "print(book1.get_context_length())\n",
    "print(book1.title)"
   ]
  },
  {
   "cell_type": "code",
   "execution_count": 3,
   "id": "3ff6560f-cc3d-40ca-88f0-15a26bd48999",
   "metadata": {
    "panel-layout": {
     "height": 0,
     "visible": true,
     "width": 100
    }
   },
   "outputs": [
    {
     "name": "stdout",
     "output_type": "stream",
     "text": [
      "init function called\n",
      "0\n",
      "welcome，the content of this book is indeed nothing.\n"
     ]
    }
   ],
   "source": [
    "# introduction to classmethod、staticmethod\n",
    "class Document():\n",
    "    WELCOME_STR = \"welcome，the content of this book is {}.\"\n",
    "    def __init__(self, title, author, context):\n",
    "        print('init function called')\n",
    "        self.title = title\n",
    "        self.author = author\n",
    "        self.__context = context # __表示private\n",
    "\n",
    "    def get_context_length(self):\n",
    "        return len(self.__context)\n",
    "\n",
    "    @classmethod\n",
    "    def create_empty_book(cls):\n",
    "        return Document('', '', '')\n",
    "\n",
    "    @staticmethod\n",
    "    def get_welcome(context):\n",
    "        return Document.WELCOME_STR.format(context)\n",
    "\n",
    "# classmethod are typically used to creat different construction methods\n",
    "empty_book = Document.create_empty_book()\n",
    "print(empty_book.get_context_length())\n",
    "\n",
    "# in general, static functions can be used to do simple, independent tasks，\n",
    "print(Document.get_welcome(\"indeed nothing\"))\n"
   ]
  },
  {
   "cell_type": "code",
   "execution_count": null,
   "id": "34c1caee-fafe-4137-9d49-8f4320965605",
   "metadata": {},
   "outputs": [],
   "source": [
    "# class example：search engine\n",
    "\n",
    "import re\n",
    "import ipdb;  # ipdb.set_trace() breakpoint\n",
    "\n",
    "# the base class of search engine\n",
    "class SearchEngineBase():\n",
    "    def __init__(self):\n",
    "        print(\"super init\")\n",
    "        pass\n",
    "\n",
    "    def add_corpus(self, file_path):\n",
    "        with open(file_path, 'r') as fin:\n",
    "            text = fin.read()\n",
    "        self.process_corpus(file_path, text)\n",
    "    \n",
    "    def process_corpus(self, id, text):\n",
    "        raise Exception('process_corpus not implemented.')\n",
    "\n",
    "    def search(self, query):\n",
    "        raise Exception('the query method not implemented.')\n",
    "\n",
    "# simple search engine\n",
    "class SimpleSearchEngine(SearchEngineBase):\n",
    "    def __init__(self):\n",
    "        super(SimpleSearchEngine, self).__init__();\n",
    "        print(\"sub init\")\n",
    "        self.__id_to_texts = {} # private\n",
    "\n",
    "    def process_corpus(self, id, text):\n",
    "        self.__id_to_texts[id] = text\n",
    "\n",
    "    def search(self, query):\n",
    "        results = []\n",
    "        for id, text in self.__id_to_texts.items():\n",
    "            if query in text:\n",
    "                results.append(id)\n",
    "        return results\n",
    "\n",
    "# Bag of Words Model, Word Segmentation-based Search Engine\n",
    "class BOWSearchEngine(SearchEngineBase):\n",
    "    def __init__(self):\n",
    "        super(BOWSearchEngine, self).__init__()\n",
    "        print('sub init')\n",
    "        self.__id_to_words = {} \n",
    "\n",
    "    def process_corpus(self, id, text):\n",
    "        self.__id_to_words[id] = self.parse_text_to_words(text)\n",
    "\n",
    "    def search(self, query):\n",
    "        results = []\n",
    "        query_words = self.parse_text_to_words(query)\n",
    "        for id, words in self.__id_to_words.items():\n",
    "            if self.query_match(query_words, words):\n",
    "                results.append(id)\n",
    "        return results\n",
    "\n",
    "    @staticmethod\n",
    "    def parse_text_to_words(text):\n",
    "        #  user regular expressions to remove punctuation and newlines\n",
    "        text = re.sub(r'[^\\w ]', ' ', text)\n",
    "\n",
    "        # to lower case\n",
    "        text = text.lower();\n",
    "\n",
    "        # generate a list of all the words\n",
    "        word_list = text.split(' ')\n",
    "\n",
    "        # Remove blank words\n",
    "        word_list = filter(None, word_list)\n",
    "\n",
    "        # return\n",
    "        return set(word_list)\n",
    "\n",
    "    @staticmethod\n",
    "    def query_match(query_words, words):\n",
    "        for query_word in query_words:\n",
    "            if query_word not in words:\n",
    "                return False\n",
    "        return True;\n",
    "        \n",
    "def main(search_engine):\n",
    "    for file_path in ['1.txt', '2.txt', '3.txt', '4.txt']:\n",
    "        search_engine.add_corpus(file_path)\n",
    "\n",
    "    while True:\n",
    "        query = input('please enter the search tern, ending with q')\n",
    "        if query == 'q':\n",
    "            break\n",
    "        returns = search_engine.search(query)\n",
    "        print(\"found {} result(s):\".format(len(returns)))\n",
    "\n",
    "        for result in returns:\n",
    "            print(result)\n",
    "\n",
    "if __name__ == '__main__': \n",
    "    # search_engine = SimpleSearchEngine()\n",
    "    search_engine = BOWSearchEngine()\n",
    "    main(search_engine)"
   ]
  }
 ],
 "metadata": {
  "kernelspec": {
   "display_name": "Python 3 (ipykernel)",
   "language": "python",
   "name": "python3"
  },
  "language_info": {
   "codemirror_mode": {
    "name": "ipython",
    "version": 3
   },
   "file_extension": ".py",
   "mimetype": "text/x-python",
   "name": "python",
   "nbconvert_exporter": "python",
   "pygments_lexer": "ipython3",
   "version": "3.12.7"
  },
  "panel-cell-order": [
   "3f8257cc-ec2d-4247-8919-2626bb1ea8d6",
   "3ff6560f-cc3d-40ca-88f0-15a26bd48999"
  ]
 },
 "nbformat": 4,
 "nbformat_minor": 5
}
