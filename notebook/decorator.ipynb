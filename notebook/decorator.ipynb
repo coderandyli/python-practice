{
 "cells": [
  {
   "cell_type": "code",
   "execution_count": null,
   "id": "301165cf-6b65-4262-bf0f-b47cf26ef095",
   "metadata": {},
   "outputs": [],
   "source": [
    "# decorator"
   ]
  },
  {
   "cell_type": "code",
   "execution_count": 9,
   "id": "8e49e675-b375-4254-9163-195a5b8e9064",
   "metadata": {},
   "outputs": [
    {
     "name": "stdout",
     "output_type": "stream",
     "text": [
      "recevice a message: hello\n",
      "recevice a message: function param\n"
     ]
    }
   ],
   "source": [
    "if __name__ == \"__main__\":\n",
    "    # function as variable\n",
    "    def func(message):\n",
    "        print(\"recevice a message: {}\".format(message))\n",
    "    send_message = func\n",
    "    send_message(\"hello\")\n",
    "\n",
    "    # function as param\n",
    "    def root_call(fun, message):\n",
    "        fun(message)\n",
    "    root_call(func, 'function param')"
   ]
  },
  {
   "cell_type": "code",
   "execution_count": 5,
   "id": "7655f012-18e5-48b7-9271-b0a67ab34e5d",
   "metadata": {},
   "outputs": [
    {
     "name": "stdout",
     "output_type": "stream",
     "text": [
      "send a message:hello\n"
     ]
    }
   ],
   "source": [
    "\n",
    "if __name__ == \"__main__\":\n",
    "    # nested functions within function\n",
    "    def func(message):\n",
    "        def send_message(msg):\n",
    "            print(\"send a message:{}\".format(msg))\n",
    "        return send_message(message)\n",
    "\n",
    "    func('hello')"
   ]
  },
  {
   "cell_type": "code",
   "execution_count": null,
   "id": "b302bf1d-c8bb-46fa-b76f-b324097b4aae",
   "metadata": {},
   "outputs": [],
   "source": [
    "    # closure: the return value of a function can alse be a function object\n",
    "    def func_closure():\n",
    "        def get_msg(msg):\n",
    "            print(\"recevice a message: {}\".format(msg))\n",
    "        return get_msg\n",
    "    send_message = func_closure()\n",
    "    send_message(\"closure\")"
   ]
  },
  {
   "cell_type": "code",
   "execution_count": 17,
   "id": "5e63c29d-7108-4aad-a2d7-904746413e76",
   "metadata": {},
   "outputs": [
    {
     "name": "stdout",
     "output_type": "stream",
     "text": [
      "decorator...\n",
      "hello\n",
      "decorator...\n",
      "hello2\n",
      "wrapper\n",
      "Help on function wrapper in module __main__:\n",
      "\n",
      "wrapper()\n",
      "\n",
      "None\n",
      "decorator...\n",
      "hello3\n",
      "greet3\n",
      "Help on function greet3 in module __main__:\n",
      "\n",
      "greet3()\n",
      "\n",
      "None\n"
     ]
    }
   ],
   "source": [
    "# simple decorator\n",
    "import functools\n",
    "if __name__ == \"__main__\":\n",
    "    def simple_decorator(func):\n",
    "        def wrapper():\n",
    "            print(\"decorator...\")\n",
    "            func()\n",
    "        return wrapper\n",
    "\n",
    "    def greet():\n",
    "        print(\"hello\")\n",
    "\n",
    "    greet = simple_decorator(greet)\n",
    "    greet()\n",
    "\n",
    "    @simple_decorator\n",
    "    def greet2():\n",
    "        print(\"hello2\")\n",
    "    greet2()\n",
    "\n",
    "    # Is the original function still the original function?\n",
    "    print(greet2.__name__) # function name is wrapper\n",
    "    print(help(greet2))\n",
    "\n",
    "    def simple_decorator2(func):\n",
    "        @functools.wraps(func) # 帮助保留原函数的元信息（也就是将原函数的元信息，拷贝到对应的装饰器函数里）, 不加该注释元信息将不再是原函数\n",
    "        def wrapper():\n",
    "            print(\"decorator...\")\n",
    "            func()\n",
    "        return wrapper\n",
    "        \n",
    "    @simple_decorator2\n",
    "    def greet3():\n",
    "        print(\"hello3\")\n",
    "    greet3()\n",
    "\n",
    "    # Is the original function still the original function?\n",
    "    print(greet3.__name__) # function name is greet3\n",
    "    print(help(greet3))"
   ]
  },
  {
   "cell_type": "code",
   "execution_count": 19,
   "id": "42a30eac-af68-40bc-8515-7923cfdf94a6",
   "metadata": {},
   "outputs": [
    {
     "name": "stdout",
     "output_type": "stream",
     "text": [
      "decorator with parameters\n",
      "hello, decorator\n"
     ]
    }
   ],
   "source": [
    "# a decorator with parameters\n",
    "import functools\n",
    "\n",
    "if __name__ == \"__main__\":\n",
    "    \n",
    "    def my_decorator(func):\n",
    "        @functools.wraps(func)\n",
    "        def wrapper(*args, **kwargs):\n",
    "            print(\"decorator with parameters\")\n",
    "            func(*args, **kwargs)\n",
    "        return wrapper\n",
    "\n",
    "    @my_decorator\n",
    "    def greet(message):\n",
    "        print(\"hello, {}\".format(message))\n",
    "\n",
    "    greet(\"decorator\")\n",
    "    "
   ]
  },
  {
   "cell_type": "code",
   "execution_count": 2,
   "id": "2a0870a9-bbee-40fe-b1f3-f9265189aa49",
   "metadata": {},
   "outputs": [
    {
     "name": "stdout",
     "output_type": "stream",
     "text": [
      "hello, decorator\n",
      "greet took 0.31558299997413997 ms\n"
     ]
    }
   ],
   "source": [
    "# decorator example\n",
    "import functools\n",
    "import time\n",
    "\n",
    "if __name__ == \"__main__\":\n",
    "    def log_execution_time(func):\n",
    "        @functools.wraps(func)\n",
    "        def wrapper(*args, **kwargs):\n",
    "            start = time.perf_counter()\n",
    "            res = func(*args, **kwargs) \n",
    "            end = time.perf_counter() \n",
    "            print('{} took {} ms'.format(func.__name__, (end - start) * 1000))\n",
    "        return wrapper\n",
    "\n",
    "    @log_execution_time\n",
    "    def greet(message):\n",
    "        print(\"hello, {}\".format(message))\n",
    "\n",
    "    greet(\"decorator\")"
   ]
  },
  {
   "cell_type": "code",
   "execution_count": 9,
   "id": "e6e12fce-0ab8-4382-b229-e45984c4d903",
   "metadata": {},
   "outputs": [
    {
     "name": "stdout",
     "output_type": "stream",
     "text": [
      "2\n",
      "2\n",
      "2\n"
     ]
    }
   ],
   "source": [
    "# built-in decorator: @lru_cache\n",
    "from functools import lru_cache\n",
    "\n",
    "@lru_cache(maxsize=256)\n",
    "def add(x, y):\n",
    "    return x + y\n",
    "\n",
    "print(add(1,1))\n",
    "print(add(1,1))\n",
    "print(add(1,1))\n",
    "\n"
   ]
  },
  {
   "cell_type": "code",
   "execution_count": null,
   "id": "ec3a6a37-596f-4a58-a0dd-707f3f27b29a",
   "metadata": {},
   "outputs": [],
   "source": []
  },
  {
   "cell_type": "code",
   "execution_count": null,
   "id": "535450a9-212c-4cbb-8123-6cc72307517a",
   "metadata": {},
   "outputs": [],
   "source": []
  },
  {
   "cell_type": "code",
   "execution_count": null,
   "id": "85622e8f-aa10-4dce-bbc0-0bf10d50ccec",
   "metadata": {},
   "outputs": [],
   "source": []
  },
  {
   "cell_type": "code",
   "execution_count": null,
   "id": "577dee5e-fde7-4ec9-89b3-c151189b2aec",
   "metadata": {},
   "outputs": [],
   "source": []
  }
 ],
 "metadata": {
  "kernelspec": {
   "display_name": "Python 3 (ipykernel)",
   "language": "python",
   "name": "python3"
  },
  "language_info": {
   "codemirror_mode": {
    "name": "ipython",
    "version": 3
   },
   "file_extension": ".py",
   "mimetype": "text/x-python",
   "name": "python",
   "nbconvert_exporter": "python",
   "pygments_lexer": "ipython3",
   "version": "3.12.7"
  }
 },
 "nbformat": 4,
 "nbformat_minor": 5
}
