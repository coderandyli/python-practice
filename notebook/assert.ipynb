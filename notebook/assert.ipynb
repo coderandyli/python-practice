{
 "cells": [
  {
   "cell_type": "code",
   "execution_count": null,
   "id": "b79753bd-fb1c-43df-b636-9fe3b7249347",
   "metadata": {},
   "outputs": [],
   "source": [
    "# assert 在程序中的作用，是对代码做一些 internal 的 self-check。使用 assert，就表示你很确定。这个条件一定会发生或者一定不会发生\n",
    "# assert不适用于run time error，不能替代Exception， 因为assert可以被关闭， Python 程序执行时附带了-O这个选项，比如Python test.py -O，那么程序中所有的 assert 语句都会失效"
   ]
  },
  {
   "cell_type": "code",
   "id": "a54fd1d4-f388-4e72-a877-aea59e5e82ad",
   "metadata": {
    "ExecuteTime": {
     "end_time": "2025-01-23T08:09:11.134689Z",
     "start_time": "2025-01-23T08:09:11.113223Z"
    }
   },
   "source": [
    "def apply_discount(price, discount):\n",
    "    discount_price = price * (1 - discount)\n",
    "    assert 0 < discount_price < price, 'price shold be greater or equal to 0 and less to original price'\n",
    "    return discount_price\n",
    "\n",
    "if __name__ == '__main__':\n",
    "\n",
    "    discount_price = apply_discount(100, 2)\n",
    "    print(discount_price)\n",
    "    \n"
   ],
   "outputs": [
    {
     "ename": "AssertionError",
     "evalue": "price shold be greater or equal to 0 and less to original price",
     "output_type": "error",
     "traceback": [
      "\u001B[0;31m---------------------------------------------------------------------------\u001B[0m",
      "\u001B[0;31mAssertionError\u001B[0m                            Traceback (most recent call last)",
      "Cell \u001B[0;32mIn[2], line 8\u001B[0m\n\u001B[1;32m      4\u001B[0m     \u001B[38;5;28;01mreturn\u001B[39;00m discount_price\n\u001B[1;32m      6\u001B[0m \u001B[38;5;28;01mif\u001B[39;00m \u001B[38;5;18m__name__\u001B[39m \u001B[38;5;241m==\u001B[39m \u001B[38;5;124m'\u001B[39m\u001B[38;5;124m__main__\u001B[39m\u001B[38;5;124m'\u001B[39m:\n\u001B[0;32m----> 8\u001B[0m     discount_price \u001B[38;5;241m=\u001B[39m \u001B[43mapply_discount\u001B[49m\u001B[43m(\u001B[49m\u001B[38;5;241;43m100\u001B[39;49m\u001B[43m,\u001B[49m\u001B[43m \u001B[49m\u001B[38;5;241;43m2\u001B[39;49m\u001B[43m)\u001B[49m\n\u001B[1;32m      9\u001B[0m     \u001B[38;5;28mprint\u001B[39m(discount_price)\n",
      "Cell \u001B[0;32mIn[2], line 3\u001B[0m, in \u001B[0;36mapply_discount\u001B[0;34m(price, discount)\u001B[0m\n\u001B[1;32m      1\u001B[0m \u001B[38;5;28;01mdef\u001B[39;00m \u001B[38;5;21mapply_discount\u001B[39m(price, discount):\n\u001B[1;32m      2\u001B[0m     discount_price \u001B[38;5;241m=\u001B[39m price \u001B[38;5;241m*\u001B[39m (\u001B[38;5;241m1\u001B[39m \u001B[38;5;241m-\u001B[39m discount)\n\u001B[0;32m----> 3\u001B[0m     \u001B[38;5;28;01massert\u001B[39;00m \u001B[38;5;241m0\u001B[39m \u001B[38;5;241m<\u001B[39m discount_price \u001B[38;5;241m<\u001B[39m price, \u001B[38;5;124m'\u001B[39m\u001B[38;5;124mprice shold be greater or equal to 0 and less to original price\u001B[39m\u001B[38;5;124m'\u001B[39m\n\u001B[1;32m      4\u001B[0m     \u001B[38;5;28;01mreturn\u001B[39;00m discount_price\n",
      "\u001B[0;31mAssertionError\u001B[0m: price shold be greater or equal to 0 and less to original price"
     ]
    }
   ],
   "execution_count": 2
  },
  {
   "metadata": {},
   "cell_type": "markdown",
   "source": "",
   "id": "4003cc7174d19298"
  }
 ],
 "metadata": {
  "kernelspec": {
   "display_name": "Python 3 (ipykernel)",
   "language": "python",
   "name": "python3"
  },
  "language_info": {
   "codemirror_mode": {
    "name": "ipython",
    "version": 3
   },
   "file_extension": ".py",
   "mimetype": "text/x-python",
   "name": "python",
   "nbconvert_exporter": "python",
   "pygments_lexer": "ipython3",
   "version": "3.12.7"
  }
 },
 "nbformat": 4,
 "nbformat_minor": 5
}
