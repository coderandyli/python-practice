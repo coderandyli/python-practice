{
 "cells": [
  {
   "cell_type": "code",
   "execution_count": null,
   "id": "f4920012-9d54-4bb2-978e-ce09ab282865",
   "metadata": {},
   "outputs": [],
   "source": [
    "# coroutine\n",
    "# 1. async: declare asynchronous function\n",
    "# 2. asyncio.create_task()：create asynchronous task\n",
    "# 3. asyncio.run(main())：Trigger run"
   ]
  },
  {
   "cell_type": "code",
   "execution_count": 9,
   "id": "e1e1c5f1-a3f0-4ec1-9d2b-d094e5e9a59f",
   "metadata": {},
   "outputs": [
    {
     "name": "stdout",
     "output_type": "stream",
     "text": [
      "crawling url_1\n",
      "crawling url_2\n",
      "crawling url_3\n",
      "crawling url_4\n",
      "ok url_1\n",
      "ok url_2\n",
      "ok url_3\n",
      "ok url_4\n",
      "<built-in function perf_counter>\n"
     ]
    }
   ],
   "source": [
    "import asyncio \n",
    "import time\n",
    "\n",
    "async def crawl_page(url):\n",
    "    print(\"crawling {}\".format(url))\n",
    "    sleep_time = int(url.split('_')[-1])\n",
    "    await asyncio.sleep(sleep_time)\n",
    "    print('ok {}'.format(url))\n",
    "\n",
    "async def main(urls):\n",
    "    start = time.perf_counter \n",
    "    tasks = [asyncio.create_task(crawl_page(url)) for url in urls]\n",
    "    for task in tasks:\n",
    "        await task\n",
    "    end = time.perf_counter\n",
    "    # print(end)\n",
    "    # print('{} took {} ms'.format(main.__name__, (end - start) * 1000))\n",
    "    # print('took {} ms'.format((end - start) * 1000))\n",
    "\n",
    "# run\n",
    "await main(['url_1','url_2','url_3','url_4'])\n",
    "\n",
    "# asyncio.run(main(['url_1', 'url_2', 'url_3', 'url_4']))    "
   ]
  },
  {
   "cell_type": "code",
   "execution_count": null,
   "id": "89a97812-9fa2-4ad1-bf81-3d92dea682db",
   "metadata": {},
   "outputs": [],
   "source": []
  },
  {
   "cell_type": "code",
   "execution_count": null,
   "id": "07d988b9-8e44-40c4-aa92-1c2794e2b47d",
   "metadata": {},
   "outputs": [],
   "source": []
  },
  {
   "cell_type": "code",
   "execution_count": null,
   "id": "e14b1eda-d88d-41b1-991e-a485afd485ec",
   "metadata": {},
   "outputs": [],
   "source": []
  }
 ],
 "metadata": {
  "kernelspec": {
   "display_name": "Python 3 (ipykernel)",
   "language": "python",
   "name": "python3"
  },
  "language_info": {
   "codemirror_mode": {
    "name": "ipython",
    "version": 3
   },
   "file_extension": ".py",
   "mimetype": "text/x-python",
   "name": "python",
   "nbconvert_exporter": "python",
   "pygments_lexer": "ipython3",
   "version": "3.12.7"
  }
 },
 "nbformat": 4,
 "nbformat_minor": 5
}
